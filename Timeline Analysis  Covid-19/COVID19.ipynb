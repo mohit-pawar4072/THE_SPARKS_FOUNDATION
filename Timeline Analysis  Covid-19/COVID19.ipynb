{
 "cells": [
  {
   "cell_type": "markdown",
   "source": [
    "### Author- Mohit Pawar\r\n",
    "- Create a storyboard showing spread of Covid-19 cases in your country or any\r\n",
    "region (Asia, Europe, BRICS etc) using Tableau, Power BI or SAP\r\n",
    "\r\n",
    "\r\n",
    "\r\n",
    "- Dataset: Daily updated .csv file on https://bit.ly/30d2gdi\r\n"
   ],
   "metadata": {}
  },
  {
   "cell_type": "code",
   "execution_count": null,
   "source": [
    "import pandas as pd\r\n",
    "import numpy as np\r\n",
    "import matplotlib.pyplot as plt\r\n",
    "from IPython.display import Markdown, display\r\n",
    "from datetime import datetime as d\r\n",
    "from ipywidgets import interact,interactive,fixed,interact_manual\r\n",
    "import ipywidgets as widgets\r\n",
    "import chart_studio.plotly as py\r\n",
    "import plotly.graph_objs as go\r\n",
    "from plotly.offline import iplot, init_notebook_mode\r\n",
    "import cufflinks\r\n",
    "from plotly.subplots import make_subplots\r\n",
    "import dateutil\r\n",
    "import plotly.express as px\r\n",
    "import plotly.io as pio\r\n",
    "import datetime\r\n",
    "from statistics import mean \r\n",
    "import datetime as dt\r\n",
    "import requests\r\n",
    "from itertools import chain\r\n",
    "import plotly.graph_objects as go\r\n",
    "from plotly.subplots import make_subplots\r\n",
    "import folium\r\n",
    "from folium import plugins\r\n",
    "import os\r\n",
    "import sys\r\n",
    "from scipy.optimize import curve_fit\r\n",
    "from sklearn.metrics import mean_squared_log_error\r\n",
    "from sklearn.metrics import r2_score\r\n",
    "cufflinks.go_offline(connected=True)\r\n",
    "init_notebook_mode(connected=True)\r\n",
    "%matplotlib inline"
   ],
   "outputs": [],
   "metadata": {
    "extensions": {
     "jupyter_dashboards": {
      "version": 1,
      "views": {
       "grid_default": {},
       "report_default": {
        "col": 0,
        "height": 2,
        "hidden": false,
        "row": 2,
        "width": 12
       }
      }
     }
    }
   }
  },
  {
   "cell_type": "markdown",
   "source": [
    "# COVID19 SPREAD WORLDWIDE "
   ],
   "metadata": {}
  },
  {
   "cell_type": "code",
   "execution_count": null,
   "source": [
    "full = pd.read_csv(\"full_data (4).csv\")\r\n",
    "full = full[full['new_cases'].notna()]\r\n",
    "full_ = full.groupby(\"date\" ,as_index=False)[['new_cases','new_deaths']].sum()\r\n",
    "full_[\"Date\"] = pd.to_datetime(full_['date'])\r\n",
    "full_['Week_Number'] = full_['Date'].dt.week\r\n",
    "full__ = full_.groupby(\"Week_Number\" ,as_index=False)[['new_cases','new_deaths']].mean()"
   ],
   "outputs": [],
   "metadata": {
    "extensions": {
     "jupyter_dashboards": {
      "version": 1,
      "views": {
       "grid_default": {},
       "report_default": {
        "hidden": true
       }
      }
     }
    }
   }
  },
  {
   "cell_type": "code",
   "execution_count": null,
   "source": [
    "fig = px.bar(full_,x='date', y='new_cases', orientation='v',title = \"COVID19-  daily new cases\",\r\n",
    "             labels=dict(x=\"Date\", y=\"Count\"))\r\n",
    "fig.show()\r\n"
   ],
   "outputs": [],
   "metadata": {
    "extensions": {
     "jupyter_dashboards": {
      "version": 1,
      "views": {
       "grid_default": {},
       "report_default": {
        "col": 0,
        "height": 3,
        "hidden": false,
        "row": 6,
        "width": 4
       }
      }
     }
    }
   }
  },
  {
   "cell_type": "code",
   "execution_count": null,
   "source": [
    "fig = px.line(x=full__[\"Week_Number\"], y=full__[\"new_cases\"], title = \"7-day average of daily new cases\",\r\n",
    "             labels=dict(x=\"Week\", y=\"Count\"))\r\n",
    "fig.show()"
   ],
   "outputs": [],
   "metadata": {
    "extensions": {
     "jupyter_dashboards": {
      "version": 1,
      "views": {
       "grid_default": {},
       "report_default": {
        "col": 5,
        "height": 3,
        "hidden": false,
        "row": 6,
        "width": 5
       }
      }
     }
    }
   }
  },
  {
   "cell_type": "code",
   "execution_count": null,
   "source": [
    "df = pd.read_csv(\"covid_19_data.csv\")\r\n",
    "df.rename(columns={'ObservationDate':'Date','Province/State':'Province_State',\r\n",
    "                   'Country/Region':'Country_Region','Confirmed':'ConfirmedCases',\r\n",
    "                   'Deaths':'Fatalities'},inplace=True)\r\n",
    "df.loc[df['Country_Region']=='Mainland China','Country_Region']='China'\r\n",
    "\r\n",
    "df_world = df.copy()\r\n",
    "df_world = df_world.groupby('Date',as_index=False)['ConfirmedCases','Fatalities','Recovered'].sum()"
   ],
   "outputs": [],
   "metadata": {
    "extensions": {
     "jupyter_dashboards": {
      "version": 1,
      "views": {
       "grid_default": {},
       "report_default": {
        "col": 0,
        "height": 2,
        "hidden": false,
        "row": 9,
        "width": 12
       }
      }
     }
    }
   }
  },
  {
   "cell_type": "code",
   "execution_count": null,
   "source": [
    "l = [df_world.columns.to_list()[1] , df_world.columns.to_list()[2] ,df_world.columns.to_list()[3]]\r\n",
    "fig = go.Figure()\r\n",
    "\r\n",
    "for column in l:\r\n",
    "    fig.add_trace(\r\n",
    "        go.Scatter(\r\n",
    "            x = df_world['Date'],\r\n",
    "            y = df_world[column],\r\n",
    "            name = column\r\n",
    "        )\r\n",
    "    )\r\n",
    "fig.update_layout(\r\n",
    "    updatemenus=[go.layout.Updatemenu(\r\n",
    "        active=0,\r\n",
    "        buttons=list(\r\n",
    "            [dict(label = 'All',\r\n",
    "                  method = 'update',\r\n",
    "                  args = [{'visible': [True, True,True]},\r\n",
    "                          {'title': 'All',\r\n",
    "                           'showlegend':True}]),\r\n",
    "             dict(label = 'ConfirmedCases',\r\n",
    "                  method = 'update',\r\n",
    "                  args = [{'visible': [True, False,False]}, \r\n",
    "                          {'title': 'ConfirmedCases',\r\n",
    "                           'showlegend':True}]),\r\n",
    "             dict(label = 'Fatalities',\r\n",
    "                  method = 'update',\r\n",
    "                  args = [{'visible': [False,True,False]},\r\n",
    "                          {'title': 'Fatalities',\r\n",
    "                           'showlegend':True}]),\r\n",
    "              dict(label = 'Recovered',\r\n",
    "                  method = 'update',\r\n",
    "                  args = [{'visible': [False,False,True]},\r\n",
    "                          {'title': 'Recovered',\r\n",
    "                           'showlegend':True}]),\r\n",
    "            ])\r\n",
    "        )\r\n",
    "    ])\r\n",
    "\r\n",
    "fig.show()"
   ],
   "outputs": [],
   "metadata": {
    "extensions": {
     "jupyter_dashboards": {
      "version": 1,
      "views": {
       "grid_default": {},
       "report_default": {
        "col": 0,
        "height": 2,
        "hidden": false,
        "row": 11,
        "width": 12
       }
      }
     }
    }
   }
  },
  {
   "cell_type": "code",
   "execution_count": null,
   "source": [
    "#Get the top 5 countries\r\n",
    "last_date = df.Date.max()\r\n",
    "df_countries = df[df['Date']==last_date]\r\n",
    "df_countries = df_countries.groupby('Country_Region', as_index=False)['ConfirmedCases','Fatalities','Recovered'].sum()\r\n",
    "df_countries = df_countries.sort_values(by = 'ConfirmedCases',ascending =False)\r\n",
    "df_trend = df.groupby(['Date','Country_Region'], as_index=False)['ConfirmedCases','Fatalities','Recovered'].sum()\r\n",
    "top5 = df_trend.loc[df_trend['Country_Region'].isin(['US', 'Brazil', 'India', 'Russia', 'Colombia'])]\r\n",
    "figa = px.line(top5, x='Date', y='ConfirmedCases', color='Country_Region', title='COVID19- Top 5 worst affected countries')\r\n",
    "figa.show()"
   ],
   "outputs": [],
   "metadata": {
    "extensions": {
     "jupyter_dashboards": {
      "version": 1,
      "views": {
       "grid_default": {},
       "report_default": {
        "col": 0,
        "height": 2,
        "hidden": false,
        "row": 13,
        "width": 12
       }
      }
     }
    }
   }
  },
  {
   "cell_type": "code",
   "execution_count": null,
   "source": [
    "df_countries_fatal = df_countries.sort_values(by = 'Fatalities',ascending =False)\r\n",
    "top5_f = df_trend.loc[df_trend['Country_Region'].isin(['US', 'Brazil', 'India', 'Mexico', 'UK'])]\r\n",
    "figb = px.line(top5_f, x='Date', y='Fatalities', color='Country_Region', title='COVID19- Top 5 countries with highest no. of deaths')\r\n",
    "figb.show()"
   ],
   "outputs": [],
   "metadata": {
    "extensions": {
     "jupyter_dashboards": {
      "version": 1,
      "views": {
       "grid_default": {},
       "report_default": {
        "col": 0,
        "height": 2,
        "hidden": false,
        "row": 15,
        "width": 12
       }
      }
     }
    }
   }
  },
  {
   "cell_type": "markdown",
   "source": [
    "# SPREAD OF COVID19 IN INDIA \n"
   ],
   "metadata": {
    "extensions": {
     "jupyter_dashboards": {
      "version": 1,
      "views": {
       "grid_default": {},
       "report_default": {
        "col": 0,
        "height": 2,
        "hidden": false,
        "row": 17,
        "width": 12
       }
      }
     }
    }
   }
  },
  {
   "cell_type": "code",
   "execution_count": null,
   "source": [
    "d1 = pd.read_csv('state_wise.csv')\r\n",
    "\r\n",
    "d1['COVID_SPREAD'] = 'Recovered: ' + d1['Recovered'].astype(str) +'  Deceased: ' + d1['Deaths'].astype(str) \r\n",
    "d11 = d1.drop(0,)\r\n",
    "\r\n",
    "\r\n",
    "cord = pd.read_csv(\"Indian Coordinates.csv\")\r\n",
    "cord.rename(columns={\"Name of State / UT\" :\"State\"},inplace = True)\r\n",
    "cord = cord.drop(7).reset_index()\r\n",
    "cord[\"State\"]= cord[\"State\"].replace({\"Delhi\": \"NCT of Delhi\", \"Andaman and Nicobar\" : \"Andaman and Nicobar Island\" , \"Pondicherry\" : \"Puducherry\", \"Arunachal Pradesh\":\"Arunanchal Pradesh\"  })  \r\n",
    "final = pd.merge(d11,cord,on = \"State\")\r\n",
    "final[\"Confirmed\"] = final[\"Confirmed\"].astype(float)\r\n",
    "\r\n"
   ],
   "outputs": [],
   "metadata": {
    "extensions": {
     "jupyter_dashboards": {
      "version": 1,
      "views": {
       "grid_default": {},
       "report_default": {
        "col": 0,
        "height": 2,
        "hidden": false,
        "row": 19,
        "width": 12
       }
      }
     }
    }
   }
  },
  {
   "cell_type": "code",
   "execution_count": null,
   "source": [
    "m = folium.Map(location=[20,80], tiles=\"Stamen Terrain\", zoom_start=4)\r\n",
    "\r\n",
    "for Latitude, Longitude, State, Confirmed in zip(final.Latitude, final.Longitude ,final.State,final.Confirmed):\r\n",
    "        folium.features.CircleMarker(\r\n",
    "            [Latitude,Longitude],\r\n",
    "            radius=Confirmed/20000,\r\n",
    "            popup = ('<strong>State</strong>: ' + str(State).capitalize() + '<br>'\r\n",
    "                                '<strong>Confirmed Cases</strong>: ' + str(Confirmed) + '<br>'),\r\n",
    "            color='yellow',\r\n",
    "            fill=True,\r\n",
    "            fill_color='red',\r\n",
    "            fill_opacity=0.6\r\n",
    "        ).add_to(m)\r\n",
    "m"
   ],
   "outputs": [],
   "metadata": {
    "extensions": {
     "jupyter_dashboards": {
      "version": 1,
      "views": {
       "grid_default": {},
       "report_default": {
        "hidden": true
       }
      }
     }
    }
   }
  },
  {
   "cell_type": "code",
   "execution_count": null,
   "source": [
    "tri = pd.read_csv(\"case_time_series.csv\")\r\n",
    "t = tri.tail(1)\r\n",
    "t['country'] = \"India\"\r\n",
    "t['Total Confirmed'][282]\r\n",
    "fig = go.Figure()\r\n",
    "fig.add_trace(go.Bar(\r\n",
    "    y=t[\"country\"],\r\n",
    "    x=t[\"Total Confirmed\"],\r\n",
    "    name = \"Confirmed\",\r\n",
    "    orientation='h',\r\n",
    "    marker=dict(\r\n",
    "        color='rgba(2, 199, 99, 0.6)',\r\n",
    "        line=dict(color='rgba(2, 199, 99,0.6)', width=0.5)\r\n",
    "    )\r\n",
    "    \r\n",
    "))\r\n",
    "fig.add_trace(go.Bar(\r\n",
    "    y=t[\"country\"],\r\n",
    "    x=t[\"Total Recovered\"],\r\n",
    "    name = \"Recovered\",\r\n",
    "    orientation='h',\r\n",
    "    marker=dict(\r\n",
    "        color='rgba(246, 78, 139, 0.6)',\r\n",
    "        line=dict(color='rgba(246, 78, 139, 1.0)', width=0.5)\r\n",
    "    )\r\n",
    "))\r\n",
    "fig.add_trace(go.Bar(\r\n",
    "    y=t[\"country\"],\r\n",
    "    x=t[\"Total Deceased\"],\r\n",
    "    name = \"Deceased\",\r\n",
    "    orientation='h',\r\n",
    "    marker=dict(\r\n",
    "        color='rgba(58, 71, 80, 0.6)',\r\n",
    "        line=dict(color='rgba(58, 71, 80, 1.0)', width=0.5)\r\n",
    "    )\r\n",
    "    \r\n",
    "))\r\n",
    "\r\n",
    "\r\n",
    "fig.update_layout(barmode='stack')\r\n",
    "fig.show()"
   ],
   "outputs": [],
   "metadata": {}
  },
  {
   "cell_type": "code",
   "execution_count": null,
   "source": [
    "fig = px.bar(tri,x='Date_YMD', y='Daily Confirmed', orientation='v',title = \"Daily new COVID19 cases in India\" )\r\n",
    "fig.update_layout(bargap = 0)\r\n",
    "fig.show()"
   ],
   "outputs": [],
   "metadata": {
    "extensions": {
     "jupyter_dashboards": {
      "version": 1,
      "views": {
       "grid_default": {},
       "report_default": {
        "hidden": true
       }
      }
     }
    }
   }
  },
  {
   "cell_type": "code",
   "execution_count": null,
   "source": [
    "## SPREAD IN INDIA OVERTIME"
   ],
   "outputs": [],
   "metadata": {}
  },
  {
   "cell_type": "code",
   "execution_count": null,
   "source": [
    "l = [tri.columns.to_list()[4] , tri.columns.to_list()[6] ,tri.columns.to_list()[8]]\r\n",
    "fig = go.Figure()\r\n",
    "\r\n",
    "for column in l:\r\n",
    "    fig.add_trace(\r\n",
    "        go.Scatter(\r\n",
    "            x = tri['Date'],\r\n",
    "            y = tri[column],\r\n",
    "            name = column,\r\n",
    "        )\r\n",
    "    )\r\n",
    "fig.update_layout(\r\n",
    "    updatemenus=[go.layout.Updatemenu(\r\n",
    "        active=0,\r\n",
    "        buttons=list(\r\n",
    "            [dict(label = 'All',\r\n",
    "                  method = 'update',\r\n",
    "                  args = [{'visible': [True, True,True]},\r\n",
    "                          {'title': 'All',\r\n",
    "                           'showlegend':True}]),\r\n",
    "             dict(label = 'ConfirmedCases',\r\n",
    "                  method = 'update',\r\n",
    "                  args = [{'visible': [True, False,False]}, \r\n",
    "                          {'title': 'ConfirmedCases',\r\n",
    "                           'showlegend':True}]),\r\n",
    "             dict(label = 'Recovered',\r\n",
    "                  method = 'update',\r\n",
    "                  args = [{'visible': [False,True,False]},\r\n",
    "                          {'title': 'Recovered',\r\n",
    "                           'showlegend':True}]),\r\n",
    "              dict(label = 'Fatalities',\r\n",
    "                  method = 'update',\r\n",
    "                  args = [{'visible': [False,False,True]},\r\n",
    "                          {'title': 'Fatalities',\r\n",
    "                           'showlegend':True}]),\r\n",
    "            ])\r\n",
    "        )\r\n",
    "    ])\r\n",
    "\r\n",
    "fig.show()"
   ],
   "outputs": [],
   "metadata": {}
  },
  {
   "cell_type": "markdown",
   "source": [
    "# PREDICT NO. OF CONFIRMED CASES IN INDIA FOR FIRST WEEK OF NOVEMBER"
   ],
   "metadata": {}
  },
  {
   "cell_type": "markdown",
   "source": [
    "Fit a logistic curve for total(cumulative) confirmed cases in India. Then predict from 1/11/20 to 7/11/20"
   ],
   "metadata": {}
  },
  {
   "cell_type": "code",
   "execution_count": null,
   "source": [
    "##fit a logistic curve for total confirmed cases in India. Then predict from 1/11/20 to 7/11/20\r\n",
    "test = tri.tail(7)\r\n",
    "tr = tri[0:276]"
   ],
   "outputs": [],
   "metadata": {}
  },
  {
   "cell_type": "code",
   "execution_count": null,
   "source": [
    "##no. of days from first case\r\n",
    "x_data = range(len(tr.index))\r\n",
    "x = [number for number in x_data]\r\n",
    "y_data = tr['Total Confirmed']"
   ],
   "outputs": [],
   "metadata": {}
  },
  {
   "cell_type": "code",
   "execution_count": null,
   "source": [
    "def log_curve(x, k, x_0, ymax):\r\n",
    "    return ymax / (1 + np.exp(-k*(x-x_0)))\r\n"
   ],
   "outputs": [],
   "metadata": {}
  },
  {
   "cell_type": "code",
   "execution_count": null,
   "source": [
    "# Fit the curve\r\n",
    "parameters, v_cov = curve_fit(log_curve, x, y_data)\r\n",
    "print(\" \", parameters,\"\\n\", v_cov)"
   ],
   "outputs": [],
   "metadata": {}
  },
  {
   "cell_type": "code",
   "execution_count": null,
   "source": [
    "k = parameters[0]\r\n",
    "x_0 = parameters[1]\r\n",
    "ymax = parameters[2]"
   ],
   "outputs": [],
   "metadata": {}
  },
  {
   "cell_type": "code",
   "execution_count": null,
   "source": [
    "y_fitted = log_curve(x_data, k, x_0, ymax)"
   ],
   "outputs": [],
   "metadata": {}
  },
  {
   "cell_type": "code",
   "execution_count": null,
   "source": [
    "fig=go.Figure()\r\n",
    "fig.add_trace(go.Scatter(x=x,\r\n",
    "                         y=y_data,\r\n",
    "                         mode='markers',\r\n",
    "                         name = 'no. of  cases')\r\n",
    "             )\r\n",
    "\r\n",
    "\r\n",
    "fig.add_trace(go.Scatter(x=x,\r\n",
    "                         y=y_fitted,\r\n",
    "                         mode='lines',\r\n",
    "                         name='fitted',\r\n",
    "                        ))\r\n",
    "\r\n",
    "fig.show()"
   ],
   "outputs": [],
   "metadata": {}
  },
  {
   "cell_type": "code",
   "execution_count": null,
   "source": [
    "xtest = np.arange(276,283,1)\r\n",
    "ytest = test[\"Total Confirmed\"]\r\n",
    "y_fit = log_curve(xtest, k, x_0, ymax)\r\n",
    "fig=go.Figure()\r\n",
    "fig.add_trace(go.Scatter(x=xtest,\r\n",
    "                         y=ytest,\r\n",
    "                         mode='lines',\r\n",
    "                         name = 'No. of cases')\r\n",
    "             )\r\n",
    "\r\n",
    "# regression data\r\n",
    "fig.add_trace(go.Scatter(x=xtest,\r\n",
    "                         y=y_fit,\r\n",
    "                         mode='lines',\r\n",
    "                         name='Predicted',\r\n",
    "                         line=dict(color='firebrick', width=2)\r\n",
    "                        ))\r\n",
    "\r\n",
    "fig.show()\r\n"
   ],
   "outputs": [],
   "metadata": {}
  },
  {
   "cell_type": "code",
   "execution_count": null,
   "source": [
    "##fitting metrics\r\n",
    "MSLE = mean_squared_log_error(ytest,y_fit)\r\n",
    "print(\"Mean squared log error (MSLE): \", '{:.6f}'.format(MSLE))\r\n",
    "print(\"R2 score: \", '{:.3f}'.format(r2_score(ytest,y_fit)))"
   ],
   "outputs": [],
   "metadata": {}
  },
  {
   "cell_type": "markdown",
   "source": [
    "# COVID19 SPREAD IN INDIA: STATE-WISE"
   ],
   "metadata": {}
  },
  {
   "cell_type": "code",
   "execution_count": null,
   "source": [
    "d1 = pd.read_csv('state_wise.csv')\r\n",
    "import os\r\n",
    "d1['COVID_SPREAD'] = 'Recovered: ' + d1['Recovered'].astype(str) +'  Deceased: ' + d1['Deaths'].astype(str) \r\n",
    "d11 = d1.drop(0,)\r\n",
    "d11[\"State\"]= d11[\"State\"].replace({\"Delhi\": \"NCT of Delhi\", \"Jammu and Kashmir\" : \"Jammu & Kashmir\" , \"Arunachal Pradesh\" : \"Arunanchal Pradesh\", \"Andaman and Nicobar Islands\" : \"Andaman & Nicobar Island\"})\r\n",
    "import json\r\n",
    "states = json.load(open(\"states_india.geojson\", 'r'))\r\n",
    "state_id_map = {}\r\n",
    "for feature in states['features']:\r\n",
    "    feature['id'] = feature['properties']['state_code']\r\n",
    "    state_id_map[feature['properties']['st_nm']] = feature['id']\r\n",
    "\r\n",
    "del state_id_map['Dadara & Nagar Havelli']\r\n",
    "del state_id_map['Daman & Diu']\r\n",
    "d11['id']  = d11['State'].apply(lambda x : state_id_map[x])\r\n",
    "d11['Mortality Rate%'] = round((d11.Deaths/d11.Confirmed)*100,2)"
   ],
   "outputs": [],
   "metadata": {
    "extensions": {
     "jupyter_dashboards": {
      "version": 1,
      "views": {
       "grid_default": {},
       "report_default": {
        "hidden": true
       }
      }
     }
    }
   }
  },
  {
   "cell_type": "code",
   "execution_count": null,
   "source": [
    "figg = px.choropleth(d11, geojson=states, color=\"Confirmed\",\r\n",
    "                    locations='id', \r\n",
    "                    hover_name='State',\r\n",
    "                    hover_data=[\"Mortality Rate%\",'Confirmed','Recovered','Deaths','Active'],\r\n",
    "                    title='COVID19 SPREAD IN INDIA'\r\n",
    "                   )\r\n",
    "figg.update_geos(fitbounds=\"locations\", visible=True)\r\n",
    "figg.update_geos(projection_type=\"orthographic\")\r\n",
    "figg.update_layout(height=600,margin={\"r\":0,\"t\":30,\"l\":0,\"b\":30})\r\n",
    "figg.show()"
   ],
   "outputs": [],
   "metadata": {
    "extensions": {
     "jupyter_dashboards": {
      "version": 1,
      "views": {
       "grid_default": {},
       "report_default": {
        "hidden": true
       }
      }
     }
    }
   }
  },
  {
   "cell_type": "markdown",
   "source": [
    "STATES/UTs WITH HIGHEST MORTALITY RATE"
   ],
   "metadata": {
    "extensions": {
     "jupyter_dashboards": {
      "version": 1,
      "views": {
       "grid_default": {},
       "report_default": {
        "col": 0,
        "height": 2,
        "hidden": false,
        "row": 21,
        "width": 12
       }
      }
     }
    }
   }
  },
  {
   "cell_type": "code",
   "execution_count": null,
   "source": [
    "d111 = d11.sort_values(by = \"Mortality Rate%\",ascending = False).head(10)\r\n",
    "f= px.bar(d111, x=\"State\", y=\"Mortality Rate%\")\r\n",
    "f.show()"
   ],
   "outputs": [],
   "metadata": {
    "extensions": {
     "jupyter_dashboards": {
      "version": 1,
      "views": {
       "grid_default": {},
       "report_default": {
        "hidden": true
       }
      }
     }
    },
    "scrolled": true
   }
  },
  {
   "cell_type": "code",
   "execution_count": null,
   "source": [
    "import plotly.graph_objects as go\r\n",
    "ds = d1.drop(0,)\r\n",
    "ds = ds.sort_values(by = 'Confirmed')\r\n",
    "dss = ds.tail(10)\r\n",
    "\r\n",
    "fig = go.Figure()\r\n",
    "fig.add_trace(go.Bar(\r\n",
    "    y=dss[\"State\"],\r\n",
    "    x=dss[\"Deaths\"],\r\n",
    "    name = \"Deceased\",\r\n",
    "    orientation='h',\r\n",
    "    marker=dict(\r\n",
    "        color='rgba(2, 199, 99, 0.6)',\r\n",
    "        line=dict(color='rgba(2, 199, 99,0.6)', width=3)\r\n",
    "    )\r\n",
    "    \r\n",
    "))\r\n",
    "fig.add_trace(go.Bar(\r\n",
    "    y=dss[\"State\"],\r\n",
    "    x=dss[\"Recovered\"],\r\n",
    "    name = \"Recovered\",\r\n",
    "    orientation='h',\r\n",
    "    marker=dict(\r\n",
    "        color='rgba(246, 78, 139, 0.6)',\r\n",
    "        line=dict(color='rgba(246, 78, 139, 1.0)', width=3)\r\n",
    "    )\r\n",
    "))\r\n",
    "fig.add_trace(go.Bar(\r\n",
    "    y=dss[\"State\"],\r\n",
    "    x=dss[\"Confirmed\"],\r\n",
    "    name = \"Confirmed\",\r\n",
    "    orientation='h',\r\n",
    "    marker=dict(\r\n",
    "        color='rgba(58, 71, 80, 0.6)',\r\n",
    "        line=dict(color='rgba(58, 71, 80, 1.0)', width=3)\r\n",
    "    )\r\n",
    "    \r\n",
    "))\r\n",
    "\r\n",
    "\r\n",
    "fig.update_layout(barmode='stack')\r\n",
    "fig.show()"
   ],
   "outputs": [],
   "metadata": {
    "extensions": {
     "jupyter_dashboards": {
      "version": 1,
      "views": {
       "grid_default": {},
       "report_default": {
        "hidden": true
       }
      }
     }
    }
   }
  },
  {
   "cell_type": "code",
   "execution_count": null,
   "source": [
    "##top5 states where testing is maximum\r\n",
    "tes = pd.read_csv(\"StatewiseTestingDetails (1).csv\")\r\n",
    "tes1 = tes[tes['TotalSamples' ].notnull()]\r\n",
    "tes2 = tes1[tes1['Positive'].notnull()]\r\n",
    "tess = tes.groupby('State' ,as_index=False)[['TotalSamples','Positive']].max()\r\n",
    "tess = tess.sort_values(by = 'TotalSamples').tail(10)\r\n",
    "import plotly.graph_objects as go\r\n",
    "\r\n",
    "fig = go.Figure()\r\n",
    "fig.add_trace(go.Bar(\r\n",
    "    y=tess[\"State\"],\r\n",
    "    x=tess[\"TotalSamples\"],\r\n",
    "    name = \"Total tested\",\r\n",
    "    orientation='h',\r\n",
    "    marker=dict(\r\n",
    "        color='rgba(1130, 199, 99, 0.6)',\r\n",
    "        line=dict(color='rgba(1130, 199, 99, 0.6)', width=3)\r\n",
    "    )\r\n",
    "))\r\n",
    "fig.add_trace(go.Bar(\r\n",
    "    y=tess[\"State\"],\r\n",
    "    x=tess[\"Positive\"],\r\n",
    "    name = \"Positive\",\r\n",
    "    orientation='h',\r\n",
    "    marker=dict(\r\n",
    "        color='rgba(900, 71, 80, 0.6)',\r\n",
    "        line=dict(color='rgba(900, 71, 80, 1.0)', width=3)\r\n",
    "    )\r\n",
    "))\r\n",
    "\r\n",
    "fig.update_layout(barmode='stack')\r\n",
    "fig.show()"
   ],
   "outputs": [],
   "metadata": {
    "extensions": {
     "jupyter_dashboards": {
      "version": 1,
      "views": {
       "grid_default": {},
       "report_default": {
        "hidden": true
       }
      }
     }
    }
   }
  },
  {
   "cell_type": "code",
   "execution_count": null,
   "source": [
    "pos = pd.read_csv(\"ICMR_Testing_Data.csv\")\r\n",
    "fig = px.line(pos, x=\"day\", y=\"positive_ratio\", title='Test Positivity ratio for Mar-May')\r\n",
    "fig.show()"
   ],
   "outputs": [],
   "metadata": {
    "extensions": {
     "jupyter_dashboards": {
      "version": 1,
      "views": {
       "grid_default": {},
       "report_default": {
        "hidden": true
       }
      }
     }
    }
   }
  },
  {
   "cell_type": "markdown",
   "source": [
    "> Thank You"
   ],
   "metadata": {
    "extensions": {
     "jupyter_dashboards": {
      "version": 1,
      "views": {
       "grid_default": {},
       "report_default": {
        "hidden": true
       }
      }
     }
    }
   }
  }
 ],
 "metadata": {
  "extensions": {
   "jupyter_dashboards": {
    "activeView": "report_default",
    "version": 1,
    "views": {
     "grid_default": {
      "name": "grid",
      "type": "grid"
     },
     "report_default": {
      "name": "report",
      "type": "report"
     }
    }
   }
  },
  "kernelspec": {
   "display_name": "Python 3",
   "language": "python",
   "name": "python3"
  },
  "language_info": {
   "codemirror_mode": {
    "name": "ipython",
    "version": 3
   },
   "file_extension": ".py",
   "mimetype": "text/x-python",
   "name": "python",
   "nbconvert_exporter": "python",
   "pygments_lexer": "ipython3",
   "version": "3.8.3"
  }
 },
 "nbformat": 4,
 "nbformat_minor": 4
}